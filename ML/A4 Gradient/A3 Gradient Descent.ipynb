{
 "cells": [
  {
   "cell_type": "code",
   "execution_count": 1,
   "id": "fe450fa4-9b08-4f83-9b6d-5e01b323cb08",
   "metadata": {},
   "outputs": [
    {
     "name": "stdout",
     "output_type": "stream",
     "text": [
      "Converged after 63 iterations.\n",
      "Local minima at x = -2.999995096014269\n",
      "Function value at local minima y = 2.4049076048192486e-11\n"
     ]
    }
   ],
   "source": [
    "# ---------------------------------------------------------------\n",
    "# GRADIENT DESCENT IMPLEMENTATION\n",
    "# ---------------------------------------------------------------\n",
    "\n",
    "import numpy as np\n",
    "\n",
    "# 1. Define the function and its derivative\n",
    "# ---------------------------------------------------------------\n",
    "def f(x):\n",
    "    return (x + 3)**2\n",
    "\n",
    "def grad_f(x):\n",
    "    return 2 * (x + 3)  # derivative of f(x)\n",
    "\n",
    "# 2. Initialize parameters for Gradient Descent\n",
    "# ---------------------------------------------------------------\n",
    "x_current = 2          # starting point\n",
    "learning_rate = 0.1    # step size\n",
    "tolerance = 1e-6       # convergence tolerance\n",
    "max_iterations = 1000  # maximum iterations\n",
    "\n",
    "# 3. Gradient Descent Loop\n",
    "# ---------------------------------------------------------------\n",
    "for i in range(max_iterations):\n",
    "    gradient = grad_f(x_current)\n",
    "    x_next = x_current - learning_rate * gradient  # update step\n",
    "    \n",
    "    # Check convergence\n",
    "    if abs(x_next - x_current) < tolerance:\n",
    "        print(f\"Converged after {i+1} iterations.\")\n",
    "        break\n",
    "    \n",
    "    x_current = x_next\n",
    "\n",
    "# 4. Print the result\n",
    "# ---------------------------------------------------------------\n",
    "print(\"Local minima at x =\", x_current)\n",
    "print(\"Function value at local minima y =\", f(x_current))\n"
   ]
  },
  {
   "cell_type": "code",
   "execution_count": null,
   "id": "1f64d341-6cf8-4395-accc-26d3b807cc79",
   "metadata": {},
   "outputs": [],
   "source": []
  }
 ],
 "metadata": {
  "kernelspec": {
   "display_name": "Python 3 (ipykernel)",
   "language": "python",
   "name": "python3"
  },
  "language_info": {
   "codemirror_mode": {
    "name": "ipython",
    "version": 3
   },
   "file_extension": ".py",
   "mimetype": "text/x-python",
   "name": "python",
   "nbconvert_exporter": "python",
   "pygments_lexer": "ipython3",
   "version": "3.13.7"
  }
 },
 "nbformat": 4,
 "nbformat_minor": 5
}
