{
 "cells": [
  {
   "cell_type": "code",
   "execution_count": 9,
   "id": "207c53ea-5e9c-49a2-90c5-2b28285c611a",
   "metadata": {},
   "outputs": [],
   "source": [
    "# ---------------------------------------------------------------\n",
    "# EMAIL SPAM CLASSIFICATION USING KNN & SVM\n",
    "# ---------------------------------------------------------------\n",
    "\n",
    "# 1. IMPORT LIBRARIES\n",
    "# ---------------------------------------------------------------\n",
    "import pandas as pd\n",
    "from sklearn.model_selection import train_test_split\n",
    "from sklearn.neighbors import KNeighborsClassifier\n",
    "from sklearn.svm import SVC\n",
    "from sklearn.metrics import accuracy_score, classification_report, confusion_matrix\n",
    "import matplotlib.pyplot as plt\n",
    "import seaborn as sns"
   ]
  },
  {
   "cell_type": "code",
   "execution_count": 5,
   "id": "597c392f-12e8-4ed7-8ce2-0dd6289a7388",
   "metadata": {},
   "outputs": [],
   "source": [
    "# 2. LOAD DATASET\n",
    "# ---------------------------------------------------------------\n",
    "df = pd.read_csv(\"emails.csv\", encoding=\"ISO-8859-1\")  # Adjust path if needed\n",
    "\n",
    "# Drop unnecessary columns if present\n",
    "if \"Email No.\" in df.columns:\n",
    "    df = df.drop(columns=[\"Email No.\"])\n",
    "\n",
    "# Ensure label is integer\n",
    "df[\"Prediction\"] = df[\"Prediction\"].astype(int)\n",
    "\n",
    "# Features & target\n",
    "X = df.drop(columns=[\"Prediction\"])\n",
    "y = df[\"Prediction\"]\n"
   ]
  },
  {
   "cell_type": "code",
   "execution_count": 6,
   "id": "72b43964-1d8c-4f99-ad09-fd5e87c54ab5",
   "metadata": {},
   "outputs": [],
   "source": [
    "# 3. SPLIT DATA INTO TRAINING AND TESTING SETS\n",
    "# ---------------------------------------------------------------\n",
    "X_train, X_test, y_train, y_test = train_test_split(\n",
    "    X, y, test_size=0.2, random_state=42, stratify=y\n",
    ")"
   ]
  },
  {
   "cell_type": "code",
   "execution_count": 7,
   "id": "9941a486-03b4-4770-abe9-d411197c8809",
   "metadata": {},
   "outputs": [
    {
     "name": "stdout",
     "output_type": "stream",
     "text": [
      "\n",
      "--- KNN Performance ---\n",
      "Accuracy: 0.8714975845410629\n",
      "Classification Report:\n",
      "               precision    recall  f1-score   support\n",
      "\n",
      "           0       0.93      0.88      0.91       735\n",
      "           1       0.74      0.85      0.79       300\n",
      "\n",
      "    accuracy                           0.87      1035\n",
      "   macro avg       0.84      0.86      0.85      1035\n",
      "weighted avg       0.88      0.87      0.87      1035\n",
      "\n",
      "Confusion Matrix:\n",
      " [[648  87]\n",
      " [ 46 254]]\n"
     ]
    }
   ],
   "source": [
    "# 4. K-NEAREST NEIGHBORS CLASSIFIER\n",
    "# ---------------------------------------------------------------\n",
    "knn = KNeighborsClassifier(n_neighbors=5)\n",
    "knn.fit(X_train, y_train)\n",
    "y_pred_knn = knn.predict(X_test)\n",
    "\n",
    "print(\"\\n--- KNN Performance ---\")\n",
    "print(\"Accuracy:\", accuracy_score(y_test, y_pred_knn))\n",
    "print(\"Classification Report:\\n\", classification_report(y_test, y_pred_knn))\n",
    "print(\"Confusion Matrix:\\n\", confusion_matrix(y_test, y_pred_knn))"
   ]
  },
  {
   "cell_type": "code",
   "execution_count": 8,
   "id": "86ba6eeb-fa7a-4651-81bd-df6de11c387e",
   "metadata": {},
   "outputs": [
    {
     "name": "stdout",
     "output_type": "stream",
     "text": [
      "\n",
      "--- SVM Performance ---\n",
      "Accuracy: 0.9671497584541063\n",
      "Classification Report:\n",
      "               precision    recall  f1-score   support\n",
      "\n",
      "           0       0.98      0.97      0.98       735\n",
      "           1       0.94      0.95      0.94       300\n",
      "\n",
      "    accuracy                           0.97      1035\n",
      "   macro avg       0.96      0.96      0.96      1035\n",
      "weighted avg       0.97      0.97      0.97      1035\n",
      "\n",
      "Confusion Matrix:\n",
      " [[716  19]\n",
      " [ 15 285]]\n"
     ]
    }
   ],
   "source": [
    "# 5. SUPPORT VECTOR MACHINE CLASSIFIER\n",
    "# ---------------------------------------------------------------\n",
    "svm = SVC(kernel='linear', random_state=42)  # Linear kernel for binary classification\n",
    "svm.fit(X_train, y_train)\n",
    "y_pred_svm = svm.predict(X_test)\n",
    "\n",
    "print(\"\\n--- SVM Performance ---\")\n",
    "print(\"Accuracy:\", accuracy_score(y_test, y_pred_svm))\n",
    "print(\"Classification Report:\\n\", classification_report(y_test, y_pred_svm))\n",
    "print(\"Confusion Matrix:\\n\", confusion_matrix(y_test, y_pred_svm))"
   ]
  },
  {
   "cell_type": "code",
   "execution_count": 12,
   "id": "a0ebfbf9-1ce6-4d22-9d28-5234df7df601",
   "metadata": {},
   "outputs": [
    {
     "data": {
      "image/png": "[encoded data removed]",
      "text/plain": [
       "<Figure size 500x400 with 1 Axes>"
      ]
     },
     "metadata": {},
     "output_type": "display_data"
    },
    {
     "data": {
      "image/png": "[encoded data removed]",
      "text/plain": [
       "<Figure size 500x400 with 1 Axes>"
      ]
     },
     "metadata": {},
     "output_type": "display_data"
    }
   ],
   "source": [
    "# Function to plot confusion matrix\n",
    "def plot_confusion(y_true, y_pred, model_name):\n",
    "    cm = confusion_matrix(y_true, y_pred)\n",
    "    plt.figure(figsize=(5,4))\n",
    "    sns.heatmap(cm, annot=True, fmt='d', cmap='Blues', cbar=False)\n",
    "    plt.xlabel('Predicted')\n",
    "    plt.ylabel('Actual')\n",
    "    plt.title(f'Confusion Matrix: {model_name}')\n",
    "    plt.show()\n",
    "\n",
    "# Plot KNN confusion matrix\n",
    "plot_confusion(y_test, y_pred_knn, \"K-Nearest Neighbors\")\n",
    "\n",
    "# Plot SVM confusion matrix\n",
    "plot_confusion(y_test, y_pred_svm, \"Support Vector Machine\")\n",
    "\n"
   ]
  },
  {
   "cell_type": "code",
   "execution_count": null,
   "id": "a7d42c26-8ba8-4d63-b3b6-c656679c1031",
   "metadata": {},
   "outputs": [],
   "source": []
  }
 ],
 "metadata": {
  "kernelspec": {
   "display_name": "Python 3 (ipykernel)",
   "language": "python",
   "name": "python3"
  },
  "language_info": {
   "codemirror_mode": {
    "name": "ipython",
    "version": 3
   },
   "file_extension": ".py",
   "mimetype": "text/x-python",
   "name": "python",
   "nbconvert_exporter": "python",
   "pygments_lexer": "ipython3",
   "version": "3.13.7"
  }
 },
 "nbformat": 4,
 "nbformat_minor": 5
}
